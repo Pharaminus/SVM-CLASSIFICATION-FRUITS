{
 "cells": [
  {
   "cell_type": "code",
   "execution_count": null,
   "metadata": {},
   "outputs": [],
   "source": []
  },
  {
   "cell_type": "markdown",
   "metadata": {},
   "source": [
    "### lecture des bibliotheque\n",
    "### parcours du fichiers des images\n",
    "### Tout mes images finisse par \".png\" je convertis en niveau de gris\n",
    "### je redimensionne les images \n",
    "### j'applatit les imlages et je mets dans une liste\n",
    "### chaque nom de dossier constitura mon label et je mets les label dans une liste"
   ]
  },
  {
   "cell_type": "code",
   "execution_count": 1,
   "metadata": {},
   "outputs": [],
   "source": [
    "import os\n",
    "from PIL import Image\n",
    "import numpy as np\n",
    "\n",
    "def load_images_from_folder(folder, label):\n",
    "    images = []\n",
    "    labels = []\n",
    "    for filename in os.listdir(folder):\n",
    "        if filename.endswith(\".png\"):\n",
    "            img = Image.open(os.path.join(folder, filename)).convert('L')  # Convert to grayscale\n",
    "            img = img.resize((64, 64))  # Resize image to a fixed size\n",
    "            img_array = np.array(img).flatten()  # Flatten the image array\n",
    "            images.append(img_array)\n",
    "            labels.append(label)\n",
    "    return images, labels"
   ]
  },
  {
   "cell_type": "markdown",
   "metadata": {},
   "source": [
    "### je creer une classe que je code les differentes fontions:\n",
    "### j'initialise les differents paramètre \n",
    "### je creer la fonction qui va faire l'entrainement du modele\n",
    "### je creer la fonction qui va predire le modele "
   ]
  },
  {
   "cell_type": "code",
   "execution_count": 2,
   "metadata": {},
   "outputs": [],
   "source": [
    "# Implémentation du SVM multi-classes\n",
    "class SVM:\n",
    "    def __init__(self, learning_rate=0.001, lambda_param=0.01, n_iters=100):\n",
    "        self.learning_rate = learning_rate\n",
    "        self.lambda_param = lambda_param\n",
    "        self.n_iters = n_iters\n",
    "        self.models = []\n",
    "\n",
    "    def fit(self, X, y):\n",
    "        n_samples, n_features = len(X), len(X[0])\n",
    "        self.models = []\n",
    "\n",
    "        # Entraîner un modèle SVM binaire pour chaque classe\n",
    "        for c in range(5):\n",
    "            y_binary = [1 if label == c else -1 for label in y]\n",
    "            w = np.zeros(n_features)\n",
    "            b = 0.0\n",
    "\n",
    "            for _ in range(self.n_iters):\n",
    "                for idx in range(n_samples):\n",
    "                    x_i = X[idx]\n",
    "                    condition = y_binary[idx] * (np.dot(x_i, w) - b) >= 1\n",
    "                    if condition:\n",
    "                        w -= self.learning_rate * (2 * self.lambda_param * w)\n",
    "                    else:\n",
    "                        w -= self.learning_rate * (2 * self.lambda_param * w - np.multiply(x_i, y_binary[idx]))\n",
    "                        b -= self.learning_rate * y_binary[idx]\n",
    "\n",
    "            self.models.append((w, b))\n",
    "\n",
    "    def predict(self, X):\n",
    "        predictions = []\n",
    "        for x in X:\n",
    "            scores = [np.dot(x, w) - b for w, b in self.models]\n",
    "            predictions.append(np.argmax(scores))\n",
    "        return predictions\n"
   ]
  },
  {
   "cell_type": "markdown",
   "metadata": {},
   "source": [
    "### je charge les images et j'attribut les etiquettes \n",
    "### ici je vais utiliser une technique appelle le un contre un pour classer et predire les donnees dans un espace de representation"
   ]
  },
  {
   "cell_type": "code",
   "execution_count": 3,
   "metadata": {},
   "outputs": [
    {
     "name": "stderr",
     "output_type": "stream",
     "text": [
      "/home/chanel/.local/lib/python3.10/site-packages/PIL/Image.py:979: UserWarning: Palette images with Transparency expressed in bytes should be converted to RGBA images\n",
      "  warnings.warn(\n"
     ]
    }
   ],
   "source": [
    "\n",
    "# Charger les images et attribuer des étiquettes\n",
    "ananas_images, ananas_labels = load_images_from_folder('mess/ananas/', 0)\n",
    "pasteques_images, pasteques_labels = load_images_from_folder('mess/avocats/', 1)\n",
    "bananes_images, bananes_labels = load_images_from_folder('mess/bananes/', 2)\n",
    "avocats_images, avocats_labels = load_images_from_folder('mess/mangues/', 3)\n",
    "mangues_images, mangues_labels = load_images_from_folder('mess/pasteques/', 4)\n",
    "\n",
    "X = ananas_images + pasteques_images + bananes_images + avocats_images + mangues_images\n",
    "y = ananas_labels + pasteques_labels + bananes_labels + avocats_labels + mangues_labels\n"
   ]
  },
  {
   "cell_type": "markdown",
   "metadata": {},
   "source": [
    "### appel au fonction pour executer un SVM"
   ]
  },
  {
   "cell_type": "code",
   "execution_count": 4,
   "metadata": {},
   "outputs": [
    {
     "name": "stdout",
     "output_type": "stream",
     "text": [
      "[0, 0, 0, 0, 0, 0, 0, 0, 0, 0, 0, 1, 1, 1, 1, 1, 1, 1, 1, 1, 1, 1, 2, 2, 2, 2, 2, 2, 2, 2, 2, 2, 2, 3, 3, 3, 3, 3, 3, 3, 3, 3, 3, 3, 4, 4, 4, 4, 4, 4]\n"
     ]
    }
   ],
   "source": [
    "# Entraîner le modèle\n",
    "svm = SVM()\n",
    "svm.fit(X, y)\n",
    "\n",
    "# Prédire sur les images d'entraînement\n",
    "predictions = svm.predict(X)\n",
    "print(predictions)"
   ]
  },
  {
   "cell_type": "code",
   "execution_count": 6,
   "metadata": {},
   "outputs": [
    {
     "name": "stdout",
     "output_type": "stream",
     "text": [
      "La prédiction pour l'image mess/m.png est: mangue\n",
      "1.0\n"
     ]
    }
   ],
   "source": [
    "from sklearn.metrics import accuracy_score\n",
    "# Fonction pour prédire une nouvelle image\n",
    "def predict_new_image(image_path, model):\n",
    "    img = Image.open(image_path).convert('L')  # Convert to grayscale\n",
    "    img = img.resize((64, 64))  # Resize image to a fixed size\n",
    "    img_array = np.array(img).flatten()  # Flatten the image array\n",
    "    prediction = model.predict([img_array])\n",
    "    fruit_dict = {0: 'ananas', 1: 'pasteque', 2: 'banane', 3: 'avocat', 4: 'mangue'}\n",
    "    return fruit_dict[prediction[0]]\n",
    "\n",
    "# Prédire une nouvelle image\n",
    "new_image_path = 'mess/m.png'  # Remplacez par le chemin de votre nouvelle image\n",
    "# new_image_path = 'm.png'  # Remplacez par le chemin de votre nouvelle image\n",
    "result = predict_new_image(new_image_path, svm)\n",
    "print(f\"La prédiction pour l'image {new_image_path} est: {result}\")\n",
    "# print(y)\n",
    "print(accuracy_score(y,predictions))\n"
   ]
  },
  {
   "cell_type": "code",
   "execution_count": null,
   "metadata": {},
   "outputs": [],
   "source": []
  }
 ],
 "metadata": {
  "kernelspec": {
   "display_name": "Python 3",
   "language": "python",
   "name": "python3"
  },
  "language_info": {
   "codemirror_mode": {
    "name": "ipython",
    "version": 3
   },
   "file_extension": ".py",
   "mimetype": "text/x-python",
   "name": "python",
   "nbconvert_exporter": "python",
   "pygments_lexer": "ipython3",
   "version": "3.10.12"
  }
 },
 "nbformat": 4,
 "nbformat_minor": 2
}
